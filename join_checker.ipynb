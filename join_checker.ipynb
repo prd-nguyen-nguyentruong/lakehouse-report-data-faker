{
 "cells": [
  {
   "cell_type": "code",
   "execution_count": 2,
   "metadata": {},
   "outputs": [],
   "source": [
    "import pandas as pd"
   ]
  },
  {
   "cell_type": "code",
   "execution_count": 3,
   "metadata": {},
   "outputs": [],
   "source": [
    "df1 = pd.read_csv(\"100_ai_messages.csv\")\n",
    "df2 = pd.read_csv(\"1000_ai_message_note.csv\")"
   ]
  },
  {
   "cell_type": "code",
   "execution_count": 6,
   "metadata": {},
   "outputs": [],
   "source": [
    "newcount = df1[\"id\"].map(df2[\"x_id\"].value_counts())"
   ]
  },
  {
   "cell_type": "code",
   "execution_count": 7,
   "metadata": {},
   "outputs": [
    {
     "data": {
      "text/plain": [
       "0     5.0\n",
       "1     3.0\n",
       "2     2.0\n",
       "3     1.0\n",
       "4     NaN\n",
       "     ... \n",
       "95    2.0\n",
       "96    NaN\n",
       "97    NaN\n",
       "98    1.0\n",
       "99    3.0\n",
       "Name: id, Length: 100, dtype: float64"
      ]
     },
     "execution_count": 7,
     "metadata": {},
     "output_type": "execute_result"
    }
   ],
   "source": [
    "newcount"
   ]
  },
  {
   "cell_type": "code",
   "execution_count": 13,
   "metadata": {},
   "outputs": [
    {
     "name": "stdout",
     "output_type": "stream",
     "text": [
      "    Value  Occurrences\n",
      "67     67            0\n",
      "66     66            0\n",
      "26     26            0\n",
      "37     37            0\n",
      "79     79            0\n",
      "..    ...          ...\n",
      "0       0            5\n",
      "78     78            5\n",
      "23     23            5\n",
      "65     65            6\n",
      "69     69            8\n",
      "\n",
      "[100 rows x 2 columns]\n"
     ]
    }
   ],
   "source": [
    "import pandas as pd\n",
    "\n",
    "\n",
    "def check_occurrences(df1, df2):\n",
    "    # Assuming df1 has only one column\n",
    "    occurrences = df1[\"id\"].map(df2[\"x_id\"].value_counts().get).fillna(0).astype(int)\n",
    "    result_df = pd.DataFrame(\n",
    "        {\"Value\": occurrences.index, \"Occurrences\": occurrences.values}\n",
    "    )\n",
    "    return result_df\n",
    "\n",
    "\n",
    "# Example usage\n",
    "df1 = pd.read_csv(\"100_ai_messages.csv\")\n",
    "df2 = pd.read_csv(\"1000_ai_message_note.csv\")\n",
    "\n",
    "result_df = check_occurrences(df1, df2)\n",
    "result = result_df.sort_values(by=\"Occurrences\", ascending=True)\n",
    "print(result)"
   ]
  },
  {
   "cell_type": "code",
   "execution_count": 15,
   "metadata": {},
   "outputs": [
    {
     "data": {
      "text/plain": [
       "Occurrences\n",
       "1    25\n",
       "3    24\n",
       "0    19\n",
       "2    17\n",
       "4    10\n",
       "5     3\n",
       "6     1\n",
       "8     1\n",
       "Name: count, dtype: int64"
      ]
     },
     "execution_count": 15,
     "metadata": {},
     "output_type": "execute_result"
    }
   ],
   "source": [
    "occurrence_counts = result_df['Occurrences'].value_counts()\n",
    "    \n",
    "# Filter out the counts that appear more than once\n",
    "multiple_occurrences = occurrence_counts[occurrence_counts > 0]\n",
    "\n",
    "multiple_occurrences\n"
   ]
  },
  {
   "cell_type": "code",
   "execution_count": null,
   "metadata": {},
   "outputs": [],
   "source": []
  }
 ],
 "metadata": {
  "kernelspec": {
   "display_name": "data-faker",
   "language": "python",
   "name": "python3"
  },
  "language_info": {
   "codemirror_mode": {
    "name": "ipython",
    "version": 3
   },
   "file_extension": ".py",
   "mimetype": "text/x-python",
   "name": "python",
   "nbconvert_exporter": "python",
   "pygments_lexer": "ipython3",
   "version": "3.10.5"
  }
 },
 "nbformat": 4,
 "nbformat_minor": 2
}
